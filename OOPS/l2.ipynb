{
 "cells": [
  {
   "cell_type": "code",
   "execution_count": 2,
   "metadata": {},
   "outputs": [
    {
     "name": "stdout",
     "output_type": "stream",
     "text": [
      "22\n"
     ]
    }
   ],
   "source": [
    "class playerchar():\n",
    "    def __init__(self,name,age):\n",
    "        self.name=name\n",
    "        self.age=age\n",
    "\n",
    "    def run(self):\n",
    "        print('run')\n",
    "\n",
    "player1=playerchar('sheshank',22)\n",
    "print(player1.age)\n"
   ]
  },
  {
   "cell_type": "markdown",
   "metadata": {},
   "source": [
    "Inherticance:using properties  of parent class in base class"
   ]
  },
  {
   "cell_type": "code",
   "execution_count": 22,
   "metadata": {},
   "outputs": [
    {
     "name": "stdout",
     "output_type": "stream",
     "text": [
      "here we go\n",
      "None\n",
      "20\n"
     ]
    }
   ],
   "source": [
    "class users():\n",
    "    def login(self):\n",
    "        print('login sucessful')\n",
    "\n",
    "class phoniex(users):\n",
    "    def __init__(self,name,power,number):\n",
    "        self.name=name\n",
    "        self.power=power\n",
    "        self.number=number\n",
    "\n",
    "    def ult(self):\n",
    "        print('here we go')\n",
    "\n",
    "\n",
    "class omen(users):\n",
    "    def __init__(self,name,power,number):\n",
    "        self.name=name\n",
    "        self.power=power\n",
    "        self.number=number\n",
    "\n",
    "\n",
    "    def ult_left(self):\n",
    "        print('scaterrrrrr')\n",
    "\n",
    "\n",
    "agent1=phoniex('peace','fire',10)\n",
    "agent2=omen('danger','shadow',20)\n",
    "print(agent1.ult())\n",
    "print(agent2.number)"
   ]
  },
  {
   "cell_type": "markdown",
   "metadata": {},
   "source": [
    "Instances"
   ]
  },
  {
   "cell_type": "code",
   "execution_count": 37,
   "metadata": {},
   "outputs": [
    {
     "name": "stdout",
     "output_type": "stream",
     "text": [
      "True\n",
      "peace is not same agent as  danger\n"
     ]
    }
   ],
   "source": [
    "class users():\n",
    "    def login(self):\n",
    "        print('login sucessful')\n",
    "\n",
    "class phoniex(users):\n",
    "    def __init__(self,name,power,number):\n",
    "        self.name=name\n",
    "        self.power=power\n",
    "        self.number=number\n",
    "\n",
    "    def ult(self):\n",
    "        print('here we go')\n",
    "\n",
    "\n",
    "class omen(users):\n",
    "    def __init__(self,name,power,number):\n",
    "        self.name=name\n",
    "        self.power=power\n",
    "        self.number=number\n",
    "\n",
    "agent3=phoniex('nice','nice',10)\n",
    "\n",
    "print(isinstance(agent3,object))\n",
    "agent3.number\n",
    "\n",
    "if (isinstance(agent1,phoniex)==False):\n",
    "    print(f'{agent1.name} is not same agent as  {agent2.name}')"
   ]
  },
  {
   "cell_type": "code",
   "execution_count": 43,
   "metadata": {},
   "outputs": [
    {
     "name": "stdout",
     "output_type": "stream",
     "text": [
      "blackie is just walking around\n",
      "white is just walking around\n",
      "red is just walking around\n"
     ]
    }
   ],
   "source": [
    "class Pets():\n",
    "    animals = []\n",
    "    def __init__(self, animals):\n",
    "        self.animals = animals\n",
    "\n",
    "    def walk(self):\n",
    "        for animal in self.animals:\n",
    "            print(animal.walk())\n",
    "\n",
    "class Cat():\n",
    "    is_lazy = True\n",
    "\n",
    "    def __init__(self, name, age):\n",
    "        self.name = name\n",
    "        self.age = age\n",
    "\n",
    "    def walk(self):\n",
    "        return f'{self.name} is just walking around'\n",
    "\n",
    "class Simon(Cat):\n",
    "    def sing(self, sounds):\n",
    "        return f'{sounds}'\n",
    "\n",
    "class Sally(Cat):\n",
    "    def sing(self, sounds):\n",
    "        return f'{sounds}'\n",
    "\n",
    "#1 Add nother Cat\n",
    "class dangercat(Cat):\n",
    "    def sing(self,sounds):\n",
    "        return f'{sounds}'\n",
    "\n",
    "#2 Create a list of all of the pets (create 3 cat instances from the above)\n",
    "my_cats = [Simon('blackie',20),Sally('white',20),dangercat('red',33)]\n",
    "\n",
    "#3 Instantiate the Pet class with all your cats use variable my_pets\n",
    "my_pets=Pets(my_cats)\n",
    "#4 Output all of the cats walking using the my_pets instance\n",
    "my_pets.walk()"
   ]
  },
  {
   "cell_type": "code",
   "execution_count": null,
   "metadata": {},
   "outputs": [],
   "source": [
    "class users():\n",
    "    def __init__(self,name,email):\n",
    "        self.name=name\n",
    "        self.email=email\n",
    "\n",
    "    \n",
    "class archer(users):\n",
    "    def __init__(self,name,email):\n",
    "        super().__init__(email)\n",
    "        self.name=name\n",
    "\n",
    "\n",
    "abc=archer('hello','dash')\n",
    "print(abc.email)"
   ]
  },
  {
   "cell_type": "code",
   "execution_count": 56,
   "metadata": {},
   "outputs": [
    {
     "name": "stdout",
     "output_type": "stream",
     "text": [
      "['__class__', '__delattr__', '__dict__', '__dir__', '__doc__', '__eq__', '__format__', '__ge__', '__getattribute__', '__gt__', '__hash__', '__init__', '__init_subclass__', '__le__', '__lt__', '__module__', '__ne__', '__new__', '__reduce__', '__reduce_ex__', '__repr__', '__setattr__', '__sizeof__', '__str__', '__subclasshook__', '__weakref__', 'age', 'name', 'run']\n"
     ]
    }
   ],
   "source": [
    "print(dir(player1))"
   ]
  },
  {
   "cell_type": "code",
   "execution_count": 63,
   "metadata": {},
   "outputs": [
    {
     "name": "stdout",
     "output_type": "stream",
     "text": [
      "1000\n",
      "5\n"
     ]
    }
   ],
   "source": [
    "class superlist(list):\n",
    "    def __len__(self):\n",
    "        return 1000\n",
    "    \n",
    "l1=superlist()\n",
    "\n",
    "print(len(l1))\n",
    "l1.append(5)\n",
    "print(l1[0])"
   ]
  }
 ],
 "metadata": {
  "kernelspec": {
   "display_name": "snakes",
   "language": "python",
   "name": "python3"
  },
  "language_info": {
   "codemirror_mode": {
    "name": "ipython",
    "version": 3
   },
   "file_extension": ".py",
   "mimetype": "text/x-python",
   "name": "python",
   "nbconvert_exporter": "python",
   "pygments_lexer": "ipython3",
   "version": "3.9.19"
  }
 },
 "nbformat": 4,
 "nbformat_minor": 2
}
