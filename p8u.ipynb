{
 "cells": [
  {
   "cell_type": "code",
   "execution_count": null,
   "metadata": {},
   "outputs": [],
   "source": [
    "def say_hello():\n",
    "    print(\"hello\")\n",
    "\n",
    "say_hello()"
   ]
  },
  {
   "cell_type": "code",
   "execution_count": null,
   "metadata": {},
   "outputs": [],
   "source": [
    "pattern=[[0,0,1,1,0,1,1,0,0],\n",
    "       [1,1,1,0,1,1,1,1,1],\n",
    "       [0,1,1,1,1,1,1,0,0],\n",
    "       [0,0,1,1,1,1,1,0,0],\n",
    "       [0,0,0,1,1,1,0,0,0],\n",
    "       [0,0,0,0,1,0,0,0,0]\n",
    "       ]\n",
    "def design():\n",
    "    l=0\n",
    "    while(l<9):\n",
    "        for row in pattern:\n",
    "            for colum in row:\n",
    "        \n",
    "                if (colum==1):\n",
    "                    print(\"*\",end=\"\")\n",
    "                else:\n",
    "                    print(\" \",end=\"\")\n",
    "            print(\"\")\n",
    "        l=l+1"
   ]
  },
  {
   "cell_type": "code",
   "execution_count": null,
   "metadata": {},
   "outputs": [],
   "source": [
    "design()"
   ]
  },
  {
   "cell_type": "code",
   "execution_count": 2,
   "metadata": {},
   "outputs": [
    {
     "name": "stdout",
     "output_type": "stream",
     "text": [
      "hello guys:sheshank20\n"
     ]
    }
   ],
   "source": [
    "def sayhello(name,age):\n",
    "    print(f\"hello guys:{name}{age}\")\n",
    "\n",
    "sayhello(\"sheshank\",\"20\")"
   ]
  },
  {
   "cell_type": "code",
   "execution_count": 3,
   "metadata": {},
   "outputs": [
    {
     "name": "stdout",
     "output_type": "stream",
     "text": [
      "enter\n",
      "3\n"
     ]
    }
   ],
   "source": [
    "#return\n",
    "\n",
    "def summ(n1,n2):\n",
    "    print(\"enter\")\n",
    "    return n1+n2\n",
    "\n",
    "print(summ(1,2))\n",
    "\n"
   ]
  },
  {
   "cell_type": "code",
   "execution_count": 16,
   "metadata": {},
   "outputs": [
    {
     "name": "stdout",
     "output_type": "stream",
     "text": [
      "nin age 12 ayti fuck you your age not yet 18 and you cant drive yet\n"
     ]
    }
   ],
   "source": [
    "def chechkdriveage(age):\n",
    "    if age<18:\n",
    "        print(f\"nin age {age} ayti fuck you your age not yet 18 and you cant drive yet\")\n",
    "    elif age>18:\n",
    "        print(\"NIce your older than 18 and you can drive our car\")\n",
    "    elif age==18:\n",
    "        print(\"mast le ig 18 agi hodi nam gadi\")\n",
    "\n",
    "x=input(\"nim age hel\")      \n",
    "chechkdriveage(int(x))"
   ]
  }
 ],
 "metadata": {
  "kernelspec": {
   "display_name": "base",
   "language": "python",
   "name": "python3"
  },
  "language_info": {
   "codemirror_mode": {
    "name": "ipython",
    "version": 3
   },
   "file_extension": ".py",
   "mimetype": "text/x-python",
   "name": "python",
   "nbconvert_exporter": "python",
   "pygments_lexer": "ipython3",
   "version": "3.12.2"
  }
 },
 "nbformat": 4,
 "nbformat_minor": 2
}
