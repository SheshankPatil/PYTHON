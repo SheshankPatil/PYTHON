{
 "cells": [
  {
   "cell_type": "code",
   "execution_count": 7,
   "metadata": {},
   "outputs": [
    {
     "name": "stdout",
     "output_type": "stream",
     "text": [
      "6\n",
      "{'apple', True, 2, 0, 'cherry', 'banna'}\n"
     ]
    }
   ],
   "source": [
    "myset={\"apple\",\"banna\",\"cherry\",\"cherry\",True,2,0,False}\n",
    "print(len(myset))\n",
    "print(myset)"
   ]
  },
  {
   "cell_type": "code",
   "execution_count": 9,
   "metadata": {},
   "outputs": [
    {
     "name": "stdout",
     "output_type": "stream",
     "text": [
      "<class 'list'>\n",
      "<class 'set'>\n"
     ]
    }
   ],
   "source": [
    "list=[\"my\",\"name\",\"dangr\"]\n",
    "newset=set(list)\n",
    "print(type(list))\n",
    "print(type(newset))"
   ]
  },
  {
   "cell_type": "code",
   "execution_count": 10,
   "metadata": {},
   "outputs": [
    {
     "name": "stdout",
     "output_type": "stream",
     "text": [
      "apple\n",
      "True\n",
      "2\n",
      "0\n",
      "cherry\n",
      "banna\n"
     ]
    }
   ],
   "source": [
    "for x in myset:\n",
    "    print(x)"
   ]
  },
  {
   "cell_type": "code",
   "execution_count": 13,
   "metadata": {},
   "outputs": [
    {
     "name": "stdout",
     "output_type": "stream",
     "text": [
      "{'apple', True, 2, 0, 'good', 'cherry', 'banna'}\n"
     ]
    }
   ],
   "source": [
    "myset.add(\"good\")\n",
    "print(myset)"
   ]
  },
  {
   "cell_type": "code",
   "execution_count": 35,
   "metadata": {},
   "outputs": [
    {
     "name": "stdout",
     "output_type": "stream",
     "text": [
      "{'pizza', 'burger', 'eggric'}\n",
      "{'pizza', 'burger', 'eggric'}\n",
      "{'apple', True, 2, 0, 'good', 'banna', 'eggric', 'pizza', 'burger', 'cherry'}\n"
     ]
    }
   ],
   "source": [
    "anotherset={\"eggric\",\"pizza\",\"burger\"}\n",
    "print(anotherset)\n",
    "\n",
    "print(anotherset)\n",
    "myset.update(anotherset)\n",
    "print(myset)"
   ]
  },
  {
   "cell_type": "code",
   "execution_count": 34,
   "metadata": {},
   "outputs": [
    {
     "name": "stdout",
     "output_type": "stream",
     "text": [
      "set()\n"
     ]
    }
   ],
   "source": [
    "thisset = {\"apple\", \"banana\", \"cherry\"}\n",
    "\n",
    "thisset.clear()\n",
    "\n",
    "print(thisset)"
   ]
  },
  {
   "cell_type": "code",
   "execution_count": 36,
   "metadata": {},
   "outputs": [
    {
     "name": "stdout",
     "output_type": "stream",
     "text": [
      "None\n"
     ]
    }
   ],
   "source": [
    "#diffrenc=newset.difference(thisset)\n",
    "diffrenc=newset.difference_update(thisset)\n",
    "print(diffrenc)"
   ]
  },
  {
   "cell_type": "markdown",
   "metadata": {},
   "source": [
    "//Dictionaries"
   ]
  },
  {
   "cell_type": "code",
   "execution_count": 37,
   "metadata": {},
   "outputs": [
    {
     "name": "stdout",
     "output_type": "stream",
     "text": [
      "{'brand': 'maruit', 'model': 'wagonr', 'year': 2020}\n"
     ]
    }
   ],
   "source": [
    "thisdictionary={\n",
    "  \"brand\":\"maruit\",\n",
    "  \"model\":\"wagonr\",\n",
    "  \"year\":2020\n",
    "}\n",
    "\n",
    "print(thisdictionary)"
   ]
  },
  {
   "cell_type": "code",
   "execution_count": 44,
   "metadata": {},
   "outputs": [
    {
     "name": "stdout",
     "output_type": "stream",
     "text": [
      "maruit\n",
      "2020\n",
      "dict_keys(['brand', 'model', 'year'])\n",
      "dict_values(['maruit', 'wagonr', 2020])\n"
     ]
    }
   ],
   "source": [
    "print(thisdictionary[\"brand\"])\n",
    "x=thisdictionary.get(\"year\")\n",
    "print(x)\n",
    "y=thisdictionary.keys()\n",
    "print(y)\n",
    "p=thisdictionary.values()\n",
    "print(p)"
   ]
  },
  {
   "cell_type": "code",
   "execution_count": 46,
   "metadata": {},
   "outputs": [
    {
     "name": "stdout",
     "output_type": "stream",
     "text": [
      "dict_items([('brand', 'ford'), ('model', 'mustang'), ('year', 2021)])\n",
      "dict_items([('brand', 'ford'), ('model', 'mustang'), ('year', 2111)])\n"
     ]
    }
   ],
   "source": [
    "car={\n",
    "    \"brand\":\"ford\",\n",
    "    \"model\":\"mustang\",\n",
    "    \"year\":2021\n",
    "}\n",
    "\n",
    "x=car.items()\n",
    "print(x)\n",
    "car[\"year\"]=2111\n",
    "print(x)"
   ]
  },
  {
   "cell_type": "code",
   "execution_count": 47,
   "metadata": {},
   "outputs": [
    {
     "name": "stdout",
     "output_type": "stream",
     "text": [
      "dict_items([('brand', 'ford'), ('model', 'mustang'), ('year', 2111), ('colour', 'red')])\n"
     ]
    }
   ],
   "source": [
    "car[\"colour\"]=\"red\"\n",
    "print(x)"
   ]
  }
 ],
 "metadata": {
  "kernelspec": {
   "display_name": "base",
   "language": "python",
   "name": "python3"
  },
  "language_info": {
   "codemirror_mode": {
    "name": "ipython",
    "version": 3
   },
   "file_extension": ".py",
   "mimetype": "text/x-python",
   "name": "python",
   "nbconvert_exporter": "python",
   "pygments_lexer": "ipython3",
   "version": "3.12.2"
  }
 },
 "nbformat": 4,
 "nbformat_minor": 2
}
