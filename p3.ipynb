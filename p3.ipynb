{
 "cells": [
  {
   "cell_type": "code",
   "execution_count": 6,
   "metadata": {},
   "outputs": [
    {
     "name": "stdout",
     "output_type": "stream",
     "text": [
      "['hello', 'my', 'name', 1, True]\n",
      "my\n",
      "5\n",
      "<class 'list'>\n",
      "[True, 1, 'name', 'my', 'hello']\n"
     ]
    }
   ],
   "source": [
    "thelist=[\"hello\",\"my\",\"name\",1,True]\n",
    "print(thelist)\n",
    "print(thelist[1])\n",
    "print(len(thelist))\n",
    "print(type(thelist))\n",
    "print(thelist[::-1])\n"
   ]
  },
  {
   "cell_type": "code",
   "execution_count": 42,
   "metadata": {},
   "outputs": [
    {
     "name": "stdout",
     "output_type": "stream",
     "text": [
      "['hello', 'is not', 'name', 1, True]\n"
     ]
    }
   ],
   "source": [
    "thelist[1]=\"is not\"\n",
    "print(thelist)"
   ]
  },
  {
   "cell_type": "code",
   "execution_count": 53,
   "metadata": {},
   "outputs": [
    {
     "name": "stdout",
     "output_type": "stream",
     "text": [
      "['hello', 'shanti', 'shanti', 'shanti', 1, True]\n"
     ]
    }
   ],
   "source": [
    "thelist[1:1]=[\"shanti\"]\n",
    "print(thelist)"
   ]
  },
  {
   "cell_type": "code",
   "execution_count": 60,
   "metadata": {},
   "outputs": [
    {
     "name": "stdout",
     "output_type": "stream",
     "text": [
      "['apple', 'banana', 'wtermellon', 'cherry']\n"
     ]
    }
   ],
   "source": [
    "thislist=[\"apple\",\"banana\",\"cherry\"]\n",
    "thislist.insert(2,\"wtermellon\")\n",
    "print(thislist)"
   ]
  },
  {
   "cell_type": "code",
   "execution_count": 61,
   "metadata": {},
   "outputs": [
    {
     "name": "stdout",
     "output_type": "stream",
     "text": [
      "['apple', 'banana', 'wtermellon', 'cherry', 'goodnighr']\n"
     ]
    }
   ],
   "source": [
    "thislist.append(\"goodnighr\")\n",
    "print(thislist)"
   ]
  },
  {
   "cell_type": "code",
   "execution_count": 3,
   "metadata": {},
   "outputs": [
    {
     "ename": "NameError",
     "evalue": "name 'thelist' is not defined",
     "output_type": "error",
     "traceback": [
      "\u001b[0;31m---------------------------------------------------------------------------\u001b[0m",
      "\u001b[0;31mNameError\u001b[0m                                 Traceback (most recent call last)",
      "Cell \u001b[0;32mIn[3], line 1\u001b[0m\n\u001b[0;32m----> 1\u001b[0m \u001b[43mthelist\u001b[49m\u001b[38;5;241m.\u001b[39mextend(thislist)\n\u001b[1;32m      2\u001b[0m \u001b[38;5;28mprint\u001b[39m(thelist)\n",
      "\u001b[0;31mNameError\u001b[0m: name 'thelist' is not defined"
     ]
    }
   ],
   "source": [
    "thelist.extend(thislist)\n",
    "print(thelist)"
   ]
  },
  {
   "cell_type": "code",
   "execution_count": 83,
   "metadata": {},
   "outputs": [
    {
     "ename": "ValueError",
     "evalue": "list.remove(x): x not in list",
     "output_type": "error",
     "traceback": [
      "\u001b[0;31m---------------------------------------------------------------------------\u001b[0m",
      "\u001b[0;31mValueError\u001b[0m                                Traceback (most recent call last)",
      "Cell \u001b[0;32mIn[83], line 1\u001b[0m\n\u001b[0;32m----> 1\u001b[0m \u001b[43mthelist\u001b[49m\u001b[38;5;241;43m.\u001b[39;49m\u001b[43mremove\u001b[49m\u001b[43m(\u001b[49m\u001b[38;5;124;43m\"\u001b[39;49m\u001b[38;5;124;43mcherry\u001b[39;49m\u001b[38;5;124;43m\"\u001b[39;49m\u001b[43m)\u001b[49m\n\u001b[1;32m      2\u001b[0m \u001b[38;5;28mprint\u001b[39m(thelist)\n",
      "\u001b[0;31mValueError\u001b[0m: list.remove(x): x not in list"
     ]
    }
   ],
   "source": [
    "thelist.remove(\"cherry\")\n",
    "print(thelist)"
   ]
  },
  {
   "cell_type": "code",
   "execution_count": 85,
   "metadata": {},
   "outputs": [
    {
     "name": "stdout",
     "output_type": "stream",
     "text": [
      "['apple', 'cherry', 'goodnighr']\n"
     ]
    }
   ],
   "source": [
    "thislist.pop(1)\n",
    "print(thislist)"
   ]
  },
  {
   "cell_type": "code",
   "execution_count": 5,
   "metadata": {},
   "outputs": [
    {
     "name": "stdout",
     "output_type": "stream",
     "text": [
      "[]\n"
     ]
    }
   ],
   "source": [
    "thelist.clear()\n",
    "print(thelist)"
   ]
  },
  {
   "cell_type": "code",
   "execution_count": 7,
   "metadata": {},
   "outputs": [
    {
     "name": "stdout",
     "output_type": "stream",
     "text": [
      "hello\n",
      "my\n",
      "name\n",
      "1\n",
      "True\n"
     ]
    }
   ],
   "source": [
    "for x in thelist:\n",
    "    print(x)"
   ]
  },
  {
   "cell_type": "code",
   "execution_count": 8,
   "metadata": {},
   "outputs": [
    {
     "name": "stdout",
     "output_type": "stream",
     "text": [
      "hello\n",
      "my\n",
      "name\n",
      "1\n",
      "True\n",
      "hello\n",
      "my\n",
      "name\n",
      "1\n",
      "True\n",
      "hello\n",
      "my\n",
      "name\n",
      "1\n",
      "True\n",
      "hello\n",
      "my\n",
      "name\n",
      "1\n",
      "True\n",
      "hello\n",
      "my\n",
      "name\n",
      "1\n",
      "True\n"
     ]
    }
   ],
   "source": [
    "for x in thelist:\n",
    "    for i in range(len(thelist)):\n",
    "        print(thelist[i])"
   ]
  },
  {
   "cell_type": "code",
   "execution_count": 9,
   "metadata": {},
   "outputs": [
    {
     "name": "stdout",
     "output_type": "stream",
     "text": [
      "hello\n",
      "my\n",
      "name\n",
      "1\n",
      "True\n"
     ]
    }
   ],
   "source": [
    "i=0\n",
    "while i <len(thelist):\n",
    "    print(thelist[i])\n",
    "    i=i+1"
   ]
  },
  {
   "cell_type": "code",
   "execution_count": 15,
   "metadata": {},
   "outputs": [
    {
     "name": "stdout",
     "output_type": "stream",
     "text": [
      "['apple', 'magos', 'grapges', 'pabbu']\n"
     ]
    }
   ],
   "source": [
    "fruits=[\"apple\",\"magos\",\"grapges\",\"chikku\",\"cheery\",\"pabbu\"]\n",
    "\n",
    "newlist=[x for x in fruits if \"a\" in x]\n",
    "\n",
    "print(newlist)"
   ]
  },
  {
   "cell_type": "code",
   "execution_count": 18,
   "metadata": {},
   "outputs": [
    {
     "name": "stdout",
     "output_type": "stream",
     "text": [
      "['apple', 'magos', 'grapges', 'pabbu']\n"
     ]
    }
   ],
   "source": [
    "addlist=[]\n",
    "for x in fruits:\n",
    "    if \"a\" in x:\n",
    "        addlist.append(x)\n",
    "\n",
    "print(addlist)\n",
    "        "
   ]
  },
  {
   "cell_type": "code",
   "execution_count": 21,
   "metadata": {},
   "outputs": [
    {
     "name": "stdout",
     "output_type": "stream",
     "text": [
      "1\n",
      "6\n"
     ]
    }
   ],
   "source": [
    "count=0\n",
    "for a in fruits:\n",
    "    if a==\"apple\":\n",
    "        count=count+1\n",
    "print(count)\n",
    "print(len(fruits))"
   ]
  },
  {
   "cell_type": "code",
   "execution_count": 23,
   "metadata": {},
   "outputs": [
    {
     "name": "stdout",
     "output_type": "stream",
     "text": [
      "['apple', 'cheery', 'chikku', 'grapges', 'magos', 'pabbu']\n"
     ]
    }
   ],
   "source": [
    "fruits.sort()\n",
    "print(fruits)"
   ]
  },
  {
   "cell_type": "code",
   "execution_count": 28,
   "metadata": {},
   "outputs": [
    {
     "name": "stdout",
     "output_type": "stream",
     "text": [
      "[11, 243, 76878, 232, 15, 2]\n",
      "[2, 11, 15, 232, 243, 76878]\n",
      "[76878, 243, 232, 15, 11, 2]\n"
     ]
    }
   ],
   "source": [
    "numberlist=[11,243,76878,232,15,2]\n",
    "print(numberlist)\n",
    "numberlist.sort()\n",
    "print(numberlist)\n",
    "numberlist.sort(reverse=True)\n",
    "print(numberlist)"
   ]
  },
  {
   "cell_type": "code",
   "execution_count": 32,
   "metadata": {},
   "outputs": [
    {
     "name": "stdout",
     "output_type": "stream",
     "text": [
      "[76878, 243, 232, 15, 11, 2]\n",
      "[76878, 243, 232, 15, 11, 2]\n"
     ]
    }
   ],
   "source": [
    "reversedlist=numberlist.copy()\n",
    "print(reversedlist)\n",
    "newreverse=list(reversedlist)\n",
    "print(newreverse)"
   ]
  },
  {
   "cell_type": "code",
   "execution_count": 37,
   "metadata": {},
   "outputs": [
    {
     "name": "stdout",
     "output_type": "stream",
     "text": [
      "[323, 22, 3, 22, 22, 33, 45, 4, 65]\n"
     ]
    }
   ],
   "source": [
    "l1=[22,33,45,4,65]\n",
    "l2=[323,22,3,22,]\n",
    "for x in l1:\n",
    "    l2.append(x)\n",
    "print(l2)"
   ]
  }
 ],
 "metadata": {
  "kernelspec": {
   "display_name": "base",
   "language": "python",
   "name": "python3"
  },
  "language_info": {
   "codemirror_mode": {
    "name": "ipython",
    "version": 3
   },
   "file_extension": ".py",
   "mimetype": "text/x-python",
   "name": "python",
   "nbconvert_exporter": "python",
   "pygments_lexer": "ipython3",
   "version": "3.12.2"
  }
 },
 "nbformat": 4,
 "nbformat_minor": 2
}
