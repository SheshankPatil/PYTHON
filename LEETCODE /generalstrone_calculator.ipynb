{
 "cells": [
  {
   "cell_type": "code",
   "execution_count": null,
   "metadata": {},
   "outputs": [],
   "source": [
    "items ={\n",
    "    1:{\"soap\":25},\n",
    "    2:{\"chips\":30},\n",
    "    3:{\"maggie\":40}\n",
    "}\n",
    "print(\"choose your item from the following:\")\n",
    "for key in items:\n",
    "    print(f\"{key}:{items[key]}\")\n",
    "\n",
    "choice=int(input(\"enter the choosen item number:\"))\n",
    "\n",
    "slected_item=items.get(choice)\n",
    "\n",
    "print(slected_item)\n",
    "\n"
   ]
  },
  {
   "cell_type": "code",
   "execution_count": null,
   "metadata": {},
   "outputs": [],
   "source": [
    "sum=0\n",
    "while(True):\n",
    "    input_num=input(\"enter the price to be added:\")\n",
    "    if(input_num!=\"q\"):\n",
    "        sum=sum+int(input_num)\n",
    "    else:\n",
    "        print(\"thank you for using our system\")\n",
    "        print(sum)\n",
    "        break"
   ]
  },
  {
   "cell_type": "code",
   "execution_count": 6,
   "metadata": {},
   "outputs": [
    {
     "name": "stdout",
     "output_type": "stream",
     "text": [
      "Choose your item from the following:\n",
      "1: Soap - ₹25\n",
      "2: Chips - ₹30\n",
      "3: Maggie - ₹40\n",
      "Added 4 of Soap to your cart.\n",
      "\n",
      "Choose your item from the following:\n",
      "1: Soap - ₹25\n",
      "2: Chips - ₹30\n",
      "3: Maggie - ₹40\n",
      "Added 4 of Maggie to your cart.\n",
      "\n",
      "Choose your item from the following:\n",
      "1: Soap - ₹25\n",
      "2: Chips - ₹30\n",
      "3: Maggie - ₹40\n",
      "\n",
      "--- Final Bill ---\n",
      "Soap - 4 x ₹25 = ₹100\n",
      "Maggie - 4 x ₹40 = ₹160\n",
      "Total Bill: ₹260\n"
     ]
    }
   ],
   "source": [
    "# Define the items and their prices\n",
    "items = {\n",
    "    1: {\"name\": \"Soap\", \"price\": 25},\n",
    "    2: {\"name\": \"Chips\", \"price\": 30},\n",
    "    3: {\"name\": \"Maggie\", \"price\": 40}\n",
    "}\n",
    "\n",
    "# To store the total cost\n",
    "total_bill = 0\n",
    "\n",
    "# List to keep track of purchased items and their quantities\n",
    "cart = []\n",
    "\n",
    "while True:\n",
    "    # Display the available items\n",
    "    print(\"Choose your item from the following:\")\n",
    "    for key, value in items.items():\n",
    "        print(f\"{key}: {value['name']} - ₹{value['price']}\")\n",
    "\n",
    "    # Get user choice\n",
    "    choice = int(input(\"Enter the chosen item number (or 0 to finish): \"))\n",
    "\n",
    "    # Check if the user wants to finish shopping\n",
    "    if choice == 0:\n",
    "        break\n",
    "\n",
    "    # Validate choice\n",
    "    if choice not in items:\n",
    "        print(\"Invalid choice, please try again.\")\n",
    "        continue\n",
    "\n",
    "    # Get the selected item\n",
    "    selected_item = items[choice]\n",
    "\n",
    "    # Get the quantity\n",
    "    quantity = int(input(f\"Enter the quantity for {selected_item['name']}: \"))\n",
    "\n",
    "    # Calculate the cost for the selected quantity\n",
    "    cost = selected_item[\"price\"] * quantity\n",
    "\n",
    "    # Add to the total bill\n",
    "    total_bill += cost\n",
    "\n",
    "    # Add the item and quantity to the cart\n",
    "    cart.append({\"name\": selected_item[\"name\"], \"quantity\": quantity, \"cost\": cost})\n",
    "\n",
    "    print(f\"Added {quantity} of {selected_item['name']} to your cart.\\n\")\n",
    "\n",
    "# Display the final bill\n",
    "print(\"\\n--- Final Bill ---\")\n",
    "for item in cart:\n",
    "    print(f\"{item['name']} - {item['quantity']} x ₹{item['cost'] // item['quantity']} = ₹{item['cost']}\")\n",
    "\n",
    "print(f\"Total Bill: ₹{total_bill}\")\n"
   ]
  }
 ],
 "metadata": {
  "kernelspec": {
   "display_name": "snakes",
   "language": "python",
   "name": "python3"
  },
  "language_info": {
   "codemirror_mode": {
    "name": "ipython",
    "version": 3
   },
   "file_extension": ".py",
   "mimetype": "text/x-python",
   "name": "python",
   "nbconvert_exporter": "python",
   "pygments_lexer": "ipython3",
   "version": "3.9.19"
  }
 },
 "nbformat": 4,
 "nbformat_minor": 2
}
