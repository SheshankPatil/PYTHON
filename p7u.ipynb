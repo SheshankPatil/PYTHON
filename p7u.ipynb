{
 "cells": [
  {
   "cell_type": "code",
   "execution_count": null,
   "metadata": {},
   "outputs": [],
   "source": [
    "my_list=[1,2,3]\n",
    "for item in my_list:\n",
    "    print(item)"
   ]
  },
  {
   "cell_type": "code",
   "execution_count": null,
   "metadata": {},
   "outputs": [],
   "source": [
    "i=0\n",
    "while i<len(my_list):\n",
    "    print(my_list[i])\n",
    "    i+=1\n",
    "    continue\n",
    "print(\"finished\")"
   ]
  },
  {
   "cell_type": "code",
   "execution_count": null,
   "metadata": {},
   "outputs": [],
   "source": [
    "while True:\n",
    "    x = input(\"enter your number\")\n",
    "    if x ==(\"bye\"):\n",
    "        break\n",
    "    elif x==(\"good night\"):\n",
    "        print(\"good night\")\n",
    "    break \n",
    "print(\"your number entered is:\"+x)"
   ]
  },
  {
   "cell_type": "code",
   "execution_count": null,
   "metadata": {},
   "outputs": [],
   "source": [
    "o=0\n",
    "p=0\n",
    "while o<=6:\n",
    "    print(\" \")\n",
    "    while p<=7:\n",
    "        print(\"*\")\n",
    "    break"
   ]
  },
  {
   "cell_type": "code",
   "execution_count": null,
   "metadata": {},
   "outputs": [],
   "source": [
    "pattern=[[0,0,1,1,0,1,1,0,0],\n",
    "       [1,1,1,0,1,1,1,1,1],\n",
    "       [0,1,1,1,1,1,1,0,0],\n",
    "       [0,0,1,1,1,1,1,0,0],\n",
    "       [0,0,0,1,1,1,0,0,0],\n",
    "       [0,0,0,0,1,0,0,0,0]\n",
    "       ]"
   ]
  },
  {
   "cell_type": "code",
   "execution_count": 47,
   "metadata": {},
   "outputs": [
    {
     "name": "stdout",
     "output_type": "stream",
     "text": [
      "  ** **  \n",
      "*** *****\n",
      " ******  \n",
      "  *****  \n",
      "   ***   \n",
      "    *    \n",
      "  ** **  \n",
      "*** *****\n",
      " ******  \n",
      "  *****  \n",
      "   ***   \n",
      "    *    \n",
      "  ** **  \n",
      "*** *****\n",
      " ******  \n",
      "  *****  \n",
      "   ***   \n",
      "    *    \n",
      "  ** **  \n",
      "*** *****\n",
      " ******  \n",
      "  *****  \n",
      "   ***   \n",
      "    *    \n",
      "  ** **  \n",
      "*** *****\n",
      " ******  \n",
      "  *****  \n",
      "   ***   \n",
      "    *    \n",
      "  ** **  \n",
      "*** *****\n",
      " ******  \n",
      "  *****  \n",
      "   ***   \n",
      "    *    \n",
      "  ** **  \n",
      "*** *****\n",
      " ******  \n",
      "  *****  \n",
      "   ***   \n",
      "    *    \n",
      "  ** **  \n",
      "*** *****\n",
      " ******  \n",
      "  *****  \n",
      "   ***   \n",
      "    *    \n",
      "  ** **  \n",
      "*** *****\n",
      " ******  \n",
      "  *****  \n",
      "   ***   \n",
      "    *    \n"
     ]
    }
   ],
   "source": [
    "l=0\n",
    "while(l<9):\n",
    "    for row in pattern:\n",
    "        for colum in row:\n",
    "        \n",
    "            if (colum==1):\n",
    "                print(\"*\",end=\"\")\n",
    "            else:\n",
    "                print(\" \",end=\"\")\n",
    "        print(\"\")\n",
    "    l=l+1"
   ]
  },
  {
   "cell_type": "code",
   "execution_count": null,
   "metadata": {},
   "outputs": [],
   "source": []
  }
 ],
 "metadata": {
  "kernelspec": {
   "display_name": "base",
   "language": "python",
   "name": "python3"
  },
  "language_info": {
   "codemirror_mode": {
    "name": "ipython",
    "version": 3
   },
   "file_extension": ".py",
   "mimetype": "text/x-python",
   "name": "python",
   "nbconvert_exporter": "python",
   "pygments_lexer": "ipython3",
   "version": "3.12.2"
  }
 },
 "nbformat": 4,
 "nbformat_minor": 2
}
