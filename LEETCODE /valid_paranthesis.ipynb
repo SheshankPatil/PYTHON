{
 "cells": [
  {
   "cell_type": "code",
   "execution_count": 43,
   "metadata": {},
   "outputs": [],
   "source": [
    "class solution:\n",
    "    def chechk(slef,s:str)->bool:\n",
    "        stack=[]\n",
    "        classopen={\")\":\"(\",\"}\":\"{\",\"]\":\"[\"}\n",
    "\n",
    "        for c in s:\n",
    "            if c in classopen:\n",
    "                if stack and stack[-1]==classopen[c]:\n",
    "                    stack.pop()\n",
    "                else:\n",
    "                    return False\n",
    "\n",
    "            else:\n",
    "                stack.append(c)\n",
    "\n",
    "        return True if not stack else False"
   ]
  },
  {
   "cell_type": "code",
   "execution_count": 44,
   "metadata": {},
   "outputs": [
    {
     "name": "stdout",
     "output_type": "stream",
     "text": [
      "True\n"
     ]
    }
   ],
   "source": [
    "solution=solution()\n",
    "test=\"()\"\n",
    "result=solution.chechk(test)\n",
    "\n",
    "print(result)"
   ]
  }
 ],
 "metadata": {
  "kernelspec": {
   "display_name": "snakes",
   "language": "python",
   "name": "python3"
  },
  "language_info": {
   "codemirror_mode": {
    "name": "ipython",
    "version": 3
   },
   "file_extension": ".py",
   "mimetype": "text/x-python",
   "name": "python",
   "nbconvert_exporter": "python",
   "pygments_lexer": "ipython3",
   "version": "3.9.19"
  }
 },
 "nbformat": 4,
 "nbformat_minor": 2
}
