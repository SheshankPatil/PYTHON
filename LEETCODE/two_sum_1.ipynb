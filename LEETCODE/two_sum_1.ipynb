{
 "cells": [
  {
   "cell_type": "code",
   "execution_count": 25,
   "metadata": {},
   "outputs": [
    {
     "name": "stdout",
     "output_type": "stream",
     "text": [
      "[0, 5]\n"
     ]
    }
   ],
   "source": [
    "# class Solution:\n",
    "#     def twoSum(self, nums: list[int], target: int) -> list[int]:\n",
    "#         # Create an empty HashMap to store the values and their corresponding indices\n",
    "#         prev_map = {}  # Dictionary to hold value: index pairs\n",
    "\n",
    "#         # Iterate through the nums list\n",
    "#         for i, n in enumerate(nums):\n",
    "#             # Calculate the difference needed to reach the target\n",
    "#             diff = target - n\n",
    "\n",
    "#             # Check if the difference is already in the HashMap\n",
    "#             if diff in prev_map:\n",
    "#                 # If found, return the indices of the two numbers\n",
    "#                 return [prev_map[diff], i]\n",
    "\n",
    "#             # Otherwise, store the current number and its index in the HashMap\n",
    "#             prev_map[n] = i\n",
    "        \n",
    "#         # If no solution is found (though the problem states there is always one)\n",
    "#         return []\n",
    "\n",
    "# solution=Solution()\n",
    "# nums=[1,3,56,87,8,9]\n",
    "# target=10\n",
    "# result=solution.twoSum(nums,target)\n",
    "# print(result)\n",
    "\n"
   ]
  },
  {
   "cell_type": "code",
   "execution_count": 7,
   "metadata": {},
   "outputs": [
    {
     "name": "stdout",
     "output_type": "stream",
     "text": [
      "[9, 10]\n"
     ]
    }
   ],
   "source": [
    "class sums:\n",
    "    def twosum(self,nums:list[int],target:int)->list[int]:\n",
    "        prev_map={}\n",
    "\n",
    "        for i,n in enumerate(nums):\n",
    "            diffrence=target-n\n",
    "\n",
    "            if diffrence in prev_map:\n",
    "                return [prev_map[diffrence],i]\n",
    "\n",
    "            prev_map[n]=i\n",
    "\n",
    "        return[]\n",
    "\n",
    "\n",
    "\n",
    "\n",
    "\n",
    "solution=sums()\n",
    "nums=[1,2,3,4,5,6,7,10,44,224,20]\n",
    "target=244\n",
    "result=solution.twosum(nums,target)\n",
    "print(result)\n",
    "\n",
    "\n",
    "\n"
   ]
  }
 ],
 "metadata": {
  "kernelspec": {
   "display_name": "snakes",
   "language": "python",
   "name": "python3"
  },
  "language_info": {
   "codemirror_mode": {
    "name": "ipython",
    "version": 3
   },
   "file_extension": ".py",
   "mimetype": "text/x-python",
   "name": "python",
   "nbconvert_exporter": "python",
   "pygments_lexer": "ipython3",
   "version": "3.9.19"
  }
 },
 "nbformat": 4,
 "nbformat_minor": 2
}
