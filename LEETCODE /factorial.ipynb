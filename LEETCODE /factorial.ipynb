{
 "cells": [
  {
   "cell_type": "code",
   "execution_count": 69,
   "metadata": {},
   "outputs": [
    {
     "name": "stdout",
     "output_type": "stream",
     "text": [
      "2658271574788448768043625811014615890319638528000000000\n",
      "8\n"
     ]
    }
   ],
   "source": [
    "def factorail(num):\n",
    "    if num==0 or num ==1:\n",
    "        return 1\n",
    "    else:\n",
    "        return num*factorail(num-1)\n",
    "\n",
    "fac=factorail(44)\n",
    "print(fac)\n",
    "\n",
    "\n",
    "def factorailtrallingzeros(number):\n",
    "        count=0\n",
    "        i=5\n",
    "        while (number//i!=0):\n",
    "            count+=int(number/i)\n",
    "            i=i*5\n",
    "            return count\n",
    "taril=factorailtrallingzeros(44)\n",
    "print(taril)\n"
   ]
  }
 ],
 "metadata": {
  "kernelspec": {
   "display_name": "snakes",
   "language": "python",
   "name": "python3"
  },
  "language_info": {
   "codemirror_mode": {
    "name": "ipython",
    "version": 3
   },
   "file_extension": ".py",
   "mimetype": "text/x-python",
   "name": "python",
   "nbconvert_exporter": "python",
   "pygments_lexer": "ipython3",
   "version": "3.9.19"
  }
 },
 "nbformat": 4,
 "nbformat_minor": 2
}
