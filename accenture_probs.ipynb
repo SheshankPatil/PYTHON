{
 "cells": [
  {
   "cell_type": "code",
   "execution_count": 13,
   "metadata": {},
   "outputs": [
    {
     "name": "stdout",
     "output_type": "stream",
     "text": [
      "200 540\n",
      "(130.0, 70.0)\n"
     ]
    }
   ],
   "source": [
    "v=int(input(\"enter number of vehicles\"))\n",
    "w =int(input('enter number of wheels in total'))\n",
    "\n",
    "def numberofdiffvehicles(v,w):\n",
    "    tw=((v*4)-w)/2\n",
    "    fw=v-tw\n",
    "\n",
    "    return tw,fw\n",
    "print(v,w)\n",
    "print(numberofdiffvehicles(v,w))"
   ]
  }
 ],
 "metadata": {
  "kernelspec": {
   "display_name": "base",
   "language": "python",
   "name": "python3"
  },
  "language_info": {
   "codemirror_mode": {
    "name": "ipython",
    "version": 3
   },
   "file_extension": ".py",
   "mimetype": "text/x-python",
   "name": "python",
   "nbconvert_exporter": "python",
   "pygments_lexer": "ipython3",
   "version": "3.12.2"
  }
 },
 "nbformat": 4,
 "nbformat_minor": 2
}
