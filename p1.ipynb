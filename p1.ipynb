{
 "cells": [
  {
   "cell_type": "code",
   "execution_count": 1,
   "metadata": {},
   "outputs": [
    {
     "name": "stdout",
     "output_type": "stream",
     "text": [
      "hello\n",
      "dangerboys\n"
     ]
    }
   ],
   "source": [
    "print(\"hello\")\n",
    "abc=22\n",
    "if abc<23:\n",
    "    print(\"dangerboys\")"
   ]
  },
  {
   "cell_type": "code",
   "execution_count": 11,
   "metadata": {},
   "outputs": [
    {
     "name": "stdout",
     "output_type": "stream",
     "text": [
      "5 5 5.0\n",
      "<class 'int'>\n"
     ]
    }
   ],
   "source": [
    "x=int(5)\n",
    "y=str(5)\n",
    "z=float(5)\n",
    "print(x,y,z)\n",
    "g=int(z)\n",
    "print(type(g))"
   ]
  },
  {
   "cell_type": "code",
   "execution_count": 12,
   "metadata": {},
   "outputs": [
    {
     "name": "stdout",
     "output_type": "stream",
     "text": [
      "danger boy dheeraj\n"
     ]
    }
   ],
   "source": [
    "t,y,u=\"danger\",'boy','dheeraj'\n",
    "print(t,y,u)\n"
   ]
  },
  {
   "cell_type": "code",
   "execution_count": 15,
   "metadata": {},
   "outputs": [
    {
     "name": "stdout",
     "output_type": "stream",
     "text": [
      "danger,boy,dheeraj\n"
     ]
    }
   ],
   "source": [
    "t=y=u=\"danger,boy,dheeraj\"\n",
    "print(t)\n"
   ]
  },
  {
   "cell_type": "code",
   "execution_count": 16,
   "metadata": {},
   "outputs": [
    {
     "name": "stdout",
     "output_type": "stream",
     "text": [
      "tomato\n",
      "lemons\n",
      "ladiesfinger\n"
     ]
    }
   ],
   "source": [
    "vegies=[\"tomato\",\"lemons\",\"ladiesfinger\"]\n",
    "x,y,z=vegies\n",
    "print(x)\n",
    "print(y)\n",
    "print(z)\n"
   ]
  },
  {
   "cell_type": "code",
   "execution_count": 18,
   "metadata": {},
   "outputs": [
    {
     "name": "stdout",
     "output_type": "stream",
     "text": [
      "pythin is gobal variable\n"
     ]
    }
   ],
   "source": [
    "r=\"gobal variable\"\n",
    "\n",
    "def myfunc():\n",
    "    print(\"pythin is \"+r)\n",
    "myfunc()"
   ]
  },
  {
   "cell_type": "code",
   "execution_count": 27,
   "metadata": {},
   "outputs": [
    {
     "name": "stdout",
     "output_type": "stream",
     "text": [
      "this is func1danager\n",
      "this is func2danager\n"
     ]
    }
   ],
   "source": [
    "a = \"hello\"\n",
    "s=\"everyone\"\n",
    " \n",
    "\n",
    "def func1():\n",
    "    global a\n",
    "    a=\"danager\"\n",
    "    print(\"this is func1\"+a)\n",
    "\n",
    "\n",
    "def func2():\n",
    "    print(\"this is func2\"+s)\n",
    "\n",
    "func1()\n",
    "func2()"
   ]
  },
  {
   "cell_type": "code",
   "execution_count": null,
   "metadata": {},
   "outputs": [],
   "source": [
    "carname=\"volvo\"\n"
   ]
  },
  {
   "cell_type": "code",
   "execution_count": 40,
   "metadata": {},
   "outputs": [
    {
     "name": "stdout",
     "output_type": "stream",
     "text": [
      "b'\\x00\\x00\\x00\\x00\\x00\\x00\\x00\\x00\\x00'\n"
     ]
    }
   ],
   "source": [
    "d=int (9)\n",
    "z=bytes(d)\n",
    "print(z)\n"
   ]
  },
  {
   "cell_type": "code",
   "execution_count": 60,
   "metadata": {},
   "outputs": [
    {
     "name": "stdout",
     "output_type": "stream",
     "text": [
      "463\n"
     ]
    }
   ],
   "source": [
    "import random\n",
    "g=random\n",
    "print(random.randrange(100,1000))"
   ]
  },
  {
   "cell_type": "code",
   "execution_count": null,
   "metadata": {},
   "outputs": [],
   "source": []
  }
 ],
 "metadata": {
  "kernelspec": {
   "display_name": "base",
   "language": "python",
   "name": "python3"
  },
  "language_info": {
   "codemirror_mode": {
    "name": "ipython",
    "version": 3
   },
   "file_extension": ".py",
   "mimetype": "text/x-python",
   "name": "python",
   "nbconvert_exporter": "python",
   "pygments_lexer": "ipython3",
   "version": "3.12.2"
  }
 },
 "nbformat": 4,
 "nbformat_minor": 2
}
