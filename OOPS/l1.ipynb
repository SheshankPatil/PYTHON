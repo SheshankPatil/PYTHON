{
 "cells": [
  {
   "cell_type": "code",
   "execution_count": 16,
   "metadata": {},
   "outputs": [
    {
     "name": "stdout",
     "output_type": "stream",
     "text": [
      "nice\n",
      "sheshank\n",
      "running\n",
      "None\n",
      "no run\n",
      "None\n",
      "True\n"
     ]
    }
   ],
   "source": [
    "class PlayerCharacter:\n",
    "    membership=True\n",
    "    def __init__(self,name,lastname):\n",
    "        self.name=name\n",
    "        self.lastname=lastname\n",
    "        \n",
    "\n",
    "    def run(self):\n",
    "        print('running')\n",
    "    def go(self):\n",
    "        print('no run')\n",
    "\n",
    "\n",
    "player1=PlayerCharacter(\"sheshank\",'patil')\n",
    "player2=PlayerCharacter('nice','hegade')\n",
    "print(player2.name)\n",
    "print(player1.name)\n",
    "print(player1.run())\n",
    "print(player1.go())\n",
    "# help(player1)\n",
    "print(player1.membership)"
   ]
  },
  {
   "cell_type": "code",
   "execution_count": 26,
   "metadata": {},
   "outputs": [
    {
     "name": "stdout",
     "output_type": "stream",
     "text": [
      "Female\n"
     ]
    }
   ],
   "source": [
    "class gameelegibel:\n",
    "\n",
    "    def __init__(self,name,age,gender):\n",
    "        if(age<18):\n",
    "            print(\"you are under age and you cannot play\")\n",
    "        else:\n",
    "            self.name=name\n",
    "            self.age=age\n",
    "            if(gender==False):\n",
    "                gender='Female'\n",
    "            else:\n",
    "                gender='Male'\n",
    "            self.gender=gender\n",
    "\n",
    "\n",
    "playera=gameelegibel('peace',19,0)\n",
    "print(playera.gender)"
   ]
  },
  {
   "cell_type": "code",
   "execution_count": 46,
   "metadata": {},
   "outputs": [
    {
     "name": "stdout",
     "output_type": "stream",
     "text": [
      "33\n",
      "88\n"
     ]
    }
   ],
   "source": [
    "#Given the below class:\n",
    "class Cat:\n",
    "    species = 'mammal'\n",
    "    def __init__(self, name, age):\n",
    "        self.name = name\n",
    "        self.age = age\n",
    "\n",
    "\n",
    "# 1 Instantiate the Cat object with 3 cats\n",
    "cat1=Cat('Pussy',22)\n",
    "cat2=Cat('danger',22)\n",
    "cat3=Cat('blackie',33)\n",
    "cat4=Cat(\"nice\",88)\n",
    "\n",
    "\n",
    "# 2 Create a function that finds the oldest cat\n",
    "def oldeestcat(*cats):\n",
    "    oldage=cats[0]\n",
    "    for cat in cats:\n",
    "        if (cat.age>oldage.age):\n",
    "            oldage=cat\n",
    "    return oldage\n",
    "\n",
    "    \n",
    "def returnold(*cats):\n",
    "    return max(cats,key=lambda cat:cat.age)\n",
    "\n",
    "# 3 Print out: \"The oldest cat is x years old.\". x will be the oldest cat age by using the function in #2\n",
    "haledu=oldeestcat(cat1,cat2,cat3,cat4)\n",
    "\n",
    "oldold=returnold(cat1,cat2,cat3)\n",
    "\n",
    "print(oldold.age)\n",
    "print(haledu.age)"
   ]
  },
  {
   "cell_type": "code",
   "execution_count": 63,
   "metadata": {},
   "outputs": [
    {
     "name": "stdout",
     "output_type": "stream",
     "text": [
      "3\n"
     ]
    },
    {
     "ename": "AttributeError",
     "evalue": "'int' object has no attribute 'name'",
     "output_type": "error",
     "traceback": [
      "\u001b[0;31m---------------------------------------------------------------------------\u001b[0m",
      "\u001b[0;31mAttributeError\u001b[0m                            Traceback (most recent call last)",
      "Cell \u001b[0;32mIn[63], line 32\u001b[0m\n\u001b[1;32m     27\u001b[0m \u001b[38;5;28mprint\u001b[39m(player1\u001b[38;5;241m.\u001b[39madding_things(\u001b[38;5;241m1\u001b[39m,\u001b[38;5;241m2\u001b[39m))\n\u001b[1;32m     31\u001b[0m player3\u001b[38;5;241m=\u001b[39mPlayerCharacter\u001b[38;5;241m.\u001b[39madding_things(\u001b[38;5;241m1\u001b[39m,\u001b[38;5;241m2\u001b[39m)\n\u001b[0;32m---> 32\u001b[0m \u001b[38;5;28mprint\u001b[39m(\u001b[43mplayer3\u001b[49m\u001b[38;5;241;43m.\u001b[39;49m\u001b[43mname\u001b[49m)\n",
      "\u001b[0;31mAttributeError\u001b[0m: 'int' object has no attribute 'name'"
     ]
    }
   ],
   "source": [
    "class PlayerCharacter:\n",
    "    membership=True\n",
    "    def __init__(self,name,lastname,age):\n",
    "        self.name=name\n",
    "        self.lastname=lastname\n",
    "        self.age=age\n",
    "\n",
    "    def run(self):\n",
    "        print('running')\n",
    "    def go(self):\n",
    "        print('no run')\n",
    "\n",
    "    @classmethod\n",
    "    def adding_things(cls,*nm1):\n",
    "        return sum(nm1)\n",
    "\n",
    "\n",
    "player1=PlayerCharacter(\"sheshank\",'patil',22)\n",
    "player2=PlayerCharacter('nice','hegade',33)\n",
    "# print(player2.name)\n",
    "# print(player1.name)\n",
    "# print(player1.run())\n",
    "# print(player1.go())\n",
    "# # help(player1)\n",
    "# print(player1.membership)\n",
    "\n",
    "print(player1.adding_things(1,2))\n",
    "\n",
    "\n",
    "\n",
    "player3=PlayerCharacter.adding_things(1,2)\n",
    "print(player3.name)"
   ]
  }
 ],
 "metadata": {
  "kernelspec": {
   "display_name": "base",
   "language": "python",
   "name": "python3"
  },
  "language_info": {
   "codemirror_mode": {
    "name": "ipython",
    "version": 3
   },
   "file_extension": ".py",
   "mimetype": "text/x-python",
   "name": "python",
   "nbconvert_exporter": "python",
   "pygments_lexer": "ipython3",
   "version": "3.9.19"
  }
 },
 "nbformat": 4,
 "nbformat_minor": 2
}
