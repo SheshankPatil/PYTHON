{
 "cells": [
  {
   "cell_type": "code",
   "execution_count": 1,
   "metadata": {},
   "outputs": [],
   "source": [
    "class solution:\n",
    "    def twosum(slef,nums:list[int],target:int)->list[int]:\n",
    "        l,r =0,len(nums)-1\n",
    "        while 1<r:\n",
    "            currsum=nums[1]+nums[r]\n",
    "            if currsum > target:\n",
    "                r-=1\n",
    "            elif currsum <target:\n",
    "                l+=1\n",
    "            else:\n",
    "                return[l+1,r+1]\n",
    "        return[]\n",
    "\n",
    "\n",
    "\n",
    "sol=solution()\n",
    "nums=[1,3,6,8,9]\n",
    "target=10\n",
    "\n",
    "result=sol.twosum(nums,target)\n",
    "\n",
    "print(result)"
   ]
  }
 ],
 "metadata": {
  "kernelspec": {
   "display_name": "snakes",
   "language": "python",
   "name": "python3"
  },
  "language_info": {
   "codemirror_mode": {
    "name": "ipython",
    "version": 3
   },
   "file_extension": ".py",
   "mimetype": "text/x-python",
   "name": "python",
   "nbconvert_exporter": "python",
   "pygments_lexer": "ipython3",
   "version": "3.9.19"
  }
 },
 "nbformat": 4,
 "nbformat_minor": 2
}
